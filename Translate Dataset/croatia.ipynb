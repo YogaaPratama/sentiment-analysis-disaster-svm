{
 "cells": [
  {
   "cell_type": "code",
   "execution_count": 1,
   "metadata": {},
   "outputs": [],
   "source": [
    "import pandas as pd\n",
    "from langdetect import detect\n",
    "from deep_translator import GoogleTranslator\n",
    "import seaborn as sns\n",
    "\n",
    "import matplotlib.pyplot as plt"
   ]
  },
  {
   "cell_type": "code",
   "execution_count": 2,
   "metadata": {},
   "outputs": [
    {
     "data": {
      "text/html": [
       "<div>\n",
       "<style scoped>\n",
       "    .dataframe tbody tr th:only-of-type {\n",
       "        vertical-align: middle;\n",
       "    }\n",
       "\n",
       "    .dataframe tbody tr th {\n",
       "        vertical-align: top;\n",
       "    }\n",
       "\n",
       "    .dataframe thead th {\n",
       "        text-align: right;\n",
       "    }\n",
       "</style>\n",
       "<table border=\"1\" class=\"dataframe\">\n",
       "  <thead>\n",
       "    <tr style=\"text-align: right;\">\n",
       "      <th></th>\n",
       "      <th>full_text</th>\n",
       "    </tr>\n",
       "  </thead>\n",
       "  <tbody>\n",
       "    <tr>\n",
       "      <th>0</th>\n",
       "      <td>RT @_antens: Petrinja https://t.co/lT9GTMBs2h</td>\n",
       "    </tr>\n",
       "    <tr>\n",
       "      <th>1</th>\n",
       "      <td>RT @_antens: Petrinja https://t.co/lT9GTMBs2h</td>\n",
       "    </tr>\n",
       "    <tr>\n",
       "      <th>2</th>\n",
       "      <td>RT @_antens: Petrinja https://t.co/lT9GTMBs2h</td>\n",
       "    </tr>\n",
       "    <tr>\n",
       "      <th>3</th>\n",
       "      <td>RT @_antens: Petrinja https://t.co/lT9GTMBs2h</td>\n",
       "    </tr>\n",
       "    <tr>\n",
       "      <th>4</th>\n",
       "      <td>RT @_antens: Petrinja https://t.co/lT9GTMBs2h</td>\n",
       "    </tr>\n",
       "    <tr>\n",
       "      <th>...</th>\n",
       "      <td>...</td>\n",
       "    </tr>\n",
       "    <tr>\n",
       "      <th>863</th>\n",
       "      <td>RT @_antens: Petrinja https://t.co/lT9GTMBs2h</td>\n",
       "    </tr>\n",
       "    <tr>\n",
       "      <th>864</th>\n",
       "      <td>RT @_antens: Petrinja https://t.co/lT9GTMBs2h</td>\n",
       "    </tr>\n",
       "    <tr>\n",
       "      <th>865</th>\n",
       "      <td>RT @_antens: Petrinja https://t.co/lT9GTMBs2h</td>\n",
       "    </tr>\n",
       "    <tr>\n",
       "      <th>866</th>\n",
       "      <td>RT @_antens: Petrinja https://t.co/lT9GTMBs2h</td>\n",
       "    </tr>\n",
       "    <tr>\n",
       "      <th>867</th>\n",
       "      <td>RT @_antens: Petrinja https://t.co/lT9GTMBs2h</td>\n",
       "    </tr>\n",
       "  </tbody>\n",
       "</table>\n",
       "<p>868 rows × 1 columns</p>\n",
       "</div>"
      ],
      "text/plain": [
       "                                         full_text\n",
       "0    RT @_antens: Petrinja https://t.co/lT9GTMBs2h\n",
       "1    RT @_antens: Petrinja https://t.co/lT9GTMBs2h\n",
       "2    RT @_antens: Petrinja https://t.co/lT9GTMBs2h\n",
       "3    RT @_antens: Petrinja https://t.co/lT9GTMBs2h\n",
       "4    RT @_antens: Petrinja https://t.co/lT9GTMBs2h\n",
       "..                                             ...\n",
       "863  RT @_antens: Petrinja https://t.co/lT9GTMBs2h\n",
       "864  RT @_antens: Petrinja https://t.co/lT9GTMBs2h\n",
       "865  RT @_antens: Petrinja https://t.co/lT9GTMBs2h\n",
       "866  RT @_antens: Petrinja https://t.co/lT9GTMBs2h\n",
       "867  RT @_antens: Petrinja https://t.co/lT9GTMBs2h\n",
       "\n",
       "[868 rows x 1 columns]"
      ]
     },
     "execution_count": 2,
     "metadata": {},
     "output_type": "execute_result"
    }
   ],
   "source": [
    "df = pd.read_excel('JRC_dataset_text.xlsx', sheet_name='Croatia earthquake')\n",
    "df"
   ]
  },
  {
   "cell_type": "code",
   "execution_count": 3,
   "metadata": {},
   "outputs": [
    {
     "name": "stdout",
     "output_type": "stream",
     "text": [
      "Language distribution in the dataset:\n",
      "language\n",
      "id    689\n",
      "fi    127\n",
      "en     17\n",
      "es     14\n",
      "tr     11\n",
      "pt      3\n",
      "lv      2\n",
      "hr      2\n",
      "it      2\n",
      "fr      1\n",
      "Name: count, dtype: int64\n"
     ]
    }
   ],
   "source": [
    "# Import required library\n",
    "from langdetect import detect\n",
    "\n",
    "# Function to detect language\n",
    "def detect_language(text):\n",
    "    try:\n",
    "        return detect(text)\n",
    "    except:\n",
    "        return 'unknown'\n",
    "\n",
    "# Detect language for each text\n",
    "df['language'] = df['full_text'].apply(detect_language)\n",
    "\n",
    "# Show language distribution\n",
    "language_counts = df['language'].value_counts()\n",
    "print(\"Language distribution in the dataset:\")\n",
    "print(language_counts)"
   ]
  },
  {
   "cell_type": "code",
   "execution_count": 4,
   "metadata": {},
   "outputs": [
    {
     "name": "stdout",
     "output_type": "stream",
     "text": [
      "Jumlah bahasa unik yang ada: 10\n"
     ]
    },
    {
     "data": {
      "image/png": "[encoded data removed]",
      "text/plain": [
       "<Figure size 1200x600 with 1 Axes>"
      ]
     },
     "metadata": {},
     "output_type": "display_data"
    }
   ],
   "source": [
    "import seaborn as sns\n",
    "\n",
    "import matplotlib.pyplot as plt\n",
    "\n",
    "# Menghitung jumlah bahasa unik\n",
    "unique_languages_count = df['language'].nunique()\n",
    "print(f\"Jumlah bahasa unik yang ada: {unique_languages_count}\")\n",
    "\n",
    "# Menampilkan jumlah bahasa unik dalam plot\n",
    "plt.figure(figsize=(12, 6))\n",
    "sns.countplot(y='language', data=df, order=language_counts.index)\n",
    "plt.title(f'Distribusi Bahasa dalam Dataset (Total bahasa unik: {unique_languages_count})')\n",
    "plt.xlabel('Jumlah')\n",
    "plt.ylabel('Bahasa')\n",
    "plt.show()"
   ]
  },
  {
   "cell_type": "code",
   "execution_count": 5,
   "metadata": {},
   "outputs": [
    {
     "name": "stdout",
     "output_type": "stream",
     "text": [
      "                                       full_text language  \\\n",
      "0  RT @_antens: Petrinja https://t.co/lT9GTMBs2h       id   \n",
      "1  RT @_antens: Petrinja https://t.co/lT9GTMBs2h       id   \n",
      "2  RT @_antens: Petrinja https://t.co/lT9GTMBs2h       id   \n",
      "3  RT @_antens: Petrinja https://t.co/lT9GTMBs2h       id   \n",
      "4  RT @_antens: Petrinja https://t.co/lT9GTMBs2h       id   \n",
      "\n",
      "                             english_translation  \n",
      "0  RT @_antens: Petrinja https://t.co/lT9GTMBs2h  \n",
      "1  RT @_antens: Petrinja https://t.co/lT9GTMBs2h  \n",
      "2  RT @_antens: Petrinja https://t.co/lT9GTMBs2h  \n",
      "3  RT @_antens: Petrinja https://t.co/lT9GTMBs2h  \n",
      "4  RT @_antens: Petrinja https://t.co/lT9GTMBs2h  \n"
     ]
    }
   ],
   "source": [
    "# Import libraries\n",
    "from langdetect import detect\n",
    "from deep_translator import GoogleTranslator\n",
    "import pandas as pd\n",
    "\n",
    "# Function to translate text to English\n",
    "def translate_to_english(text, source_lang):\n",
    "    try:\n",
    "        # If the text is already in English, return it as-is\n",
    "        if source_lang == 'en':\n",
    "            return text\n",
    "        # Translate text to English\n",
    "        translator = GoogleTranslator(source=source_lang, target='en')\n",
    "        return translator.translate(text)\n",
    "    except:\n",
    "        return 'Translation error'\n",
    "\n",
    "# Detect language for each text\n",
    "df['language'] = df['full_text'].apply(detect_language)\n",
    "\n",
    "# Translate all non-English texts to English\n",
    "df['english_translation'] = df.apply(\n",
    "    lambda row: translate_to_english(row['full_text'], row['language']),\n",
    "    axis=1\n",
    ")\n",
    "\n",
    "# View result: displaying the first few rows\n",
    "print(df[['full_text', 'language', 'english_translation']].head())\n"
   ]
  },
  {
   "cell_type": "code",
   "execution_count": 6,
   "metadata": {},
   "outputs": [
    {
     "name": "stdout",
     "output_type": "stream",
     "text": [
      "Number of rows after removing translation errors: 868\n"
     ]
    }
   ],
   "source": [
    "# Remove rows with 'Translation error' in english_translation column\n",
    "df = df[df['english_translation'] != 'Translation error']\n",
    "\n",
    "# Verify results\n",
    "print(f\"Number of rows after removing translation errors: {len(df)}\")"
   ]
  },
  {
   "cell_type": "code",
   "execution_count": 7,
   "metadata": {},
   "outputs": [
    {
     "data": {
      "text/html": [
       "<div>\n",
       "<style scoped>\n",
       "    .dataframe tbody tr th:only-of-type {\n",
       "        vertical-align: middle;\n",
       "    }\n",
       "\n",
       "    .dataframe tbody tr th {\n",
       "        vertical-align: top;\n",
       "    }\n",
       "\n",
       "    .dataframe thead th {\n",
       "        text-align: right;\n",
       "    }\n",
       "</style>\n",
       "<table border=\"1\" class=\"dataframe\">\n",
       "  <thead>\n",
       "    <tr style=\"text-align: right;\">\n",
       "      <th></th>\n",
       "      <th>full_text</th>\n",
       "      <th>language</th>\n",
       "      <th>english_translation</th>\n",
       "    </tr>\n",
       "  </thead>\n",
       "  <tbody>\n",
       "    <tr>\n",
       "      <th>0</th>\n",
       "      <td>RT @_antens: Petrinja https://t.co/lT9GTMBs2h</td>\n",
       "      <td>id</td>\n",
       "      <td>RT @_antens: Petrinja https://t.co/lT9GTMBs2h</td>\n",
       "    </tr>\n",
       "    <tr>\n",
       "      <th>1</th>\n",
       "      <td>RT @_antens: Petrinja https://t.co/lT9GTMBs2h</td>\n",
       "      <td>id</td>\n",
       "      <td>RT @_antens: Petrinja https://t.co/lT9GTMBs2h</td>\n",
       "    </tr>\n",
       "    <tr>\n",
       "      <th>2</th>\n",
       "      <td>RT @_antens: Petrinja https://t.co/lT9GTMBs2h</td>\n",
       "      <td>id</td>\n",
       "      <td>RT @_antens: Petrinja https://t.co/lT9GTMBs2h</td>\n",
       "    </tr>\n",
       "    <tr>\n",
       "      <th>3</th>\n",
       "      <td>RT @_antens: Petrinja https://t.co/lT9GTMBs2h</td>\n",
       "      <td>id</td>\n",
       "      <td>RT @_antens: Petrinja https://t.co/lT9GTMBs2h</td>\n",
       "    </tr>\n",
       "    <tr>\n",
       "      <th>4</th>\n",
       "      <td>RT @_antens: Petrinja https://t.co/lT9GTMBs2h</td>\n",
       "      <td>id</td>\n",
       "      <td>RT @_antens: Petrinja https://t.co/lT9GTMBs2h</td>\n",
       "    </tr>\n",
       "    <tr>\n",
       "      <th>...</th>\n",
       "      <td>...</td>\n",
       "      <td>...</td>\n",
       "      <td>...</td>\n",
       "    </tr>\n",
       "    <tr>\n",
       "      <th>863</th>\n",
       "      <td>RT @_antens: Petrinja https://t.co/lT9GTMBs2h</td>\n",
       "      <td>id</td>\n",
       "      <td>RT @_antens: Petrinja https://t.co/lT9GTMBs2h</td>\n",
       "    </tr>\n",
       "    <tr>\n",
       "      <th>864</th>\n",
       "      <td>RT @_antens: Petrinja https://t.co/lT9GTMBs2h</td>\n",
       "      <td>id</td>\n",
       "      <td>RT @_antens: Petrinja https://t.co/lT9GTMBs2h</td>\n",
       "    </tr>\n",
       "    <tr>\n",
       "      <th>865</th>\n",
       "      <td>RT @_antens: Petrinja https://t.co/lT9GTMBs2h</td>\n",
       "      <td>id</td>\n",
       "      <td>RT @_antens: Petrinja https://t.co/lT9GTMBs2h</td>\n",
       "    </tr>\n",
       "    <tr>\n",
       "      <th>866</th>\n",
       "      <td>RT @_antens: Petrinja https://t.co/lT9GTMBs2h</td>\n",
       "      <td>id</td>\n",
       "      <td>RT @_antens: Petrinja https://t.co/lT9GTMBs2h</td>\n",
       "    </tr>\n",
       "    <tr>\n",
       "      <th>867</th>\n",
       "      <td>RT @_antens: Petrinja https://t.co/lT9GTMBs2h</td>\n",
       "      <td>id</td>\n",
       "      <td>RT @_antens: Petrinja https://t.co/lT9GTMBs2h</td>\n",
       "    </tr>\n",
       "  </tbody>\n",
       "</table>\n",
       "<p>868 rows × 3 columns</p>\n",
       "</div>"
      ],
      "text/plain": [
       "                                         full_text language  \\\n",
       "0    RT @_antens: Petrinja https://t.co/lT9GTMBs2h       id   \n",
       "1    RT @_antens: Petrinja https://t.co/lT9GTMBs2h       id   \n",
       "2    RT @_antens: Petrinja https://t.co/lT9GTMBs2h       id   \n",
       "3    RT @_antens: Petrinja https://t.co/lT9GTMBs2h       id   \n",
       "4    RT @_antens: Petrinja https://t.co/lT9GTMBs2h       id   \n",
       "..                                             ...      ...   \n",
       "863  RT @_antens: Petrinja https://t.co/lT9GTMBs2h       id   \n",
       "864  RT @_antens: Petrinja https://t.co/lT9GTMBs2h       id   \n",
       "865  RT @_antens: Petrinja https://t.co/lT9GTMBs2h       id   \n",
       "866  RT @_antens: Petrinja https://t.co/lT9GTMBs2h       id   \n",
       "867  RT @_antens: Petrinja https://t.co/lT9GTMBs2h       id   \n",
       "\n",
       "                               english_translation  \n",
       "0    RT @_antens: Petrinja https://t.co/lT9GTMBs2h  \n",
       "1    RT @_antens: Petrinja https://t.co/lT9GTMBs2h  \n",
       "2    RT @_antens: Petrinja https://t.co/lT9GTMBs2h  \n",
       "3    RT @_antens: Petrinja https://t.co/lT9GTMBs2h  \n",
       "4    RT @_antens: Petrinja https://t.co/lT9GTMBs2h  \n",
       "..                                             ...  \n",
       "863  RT @_antens: Petrinja https://t.co/lT9GTMBs2h  \n",
       "864  RT @_antens: Petrinja https://t.co/lT9GTMBs2h  \n",
       "865  RT @_antens: Petrinja https://t.co/lT9GTMBs2h  \n",
       "866  RT @_antens: Petrinja https://t.co/lT9GTMBs2h  \n",
       "867  RT @_antens: Petrinja https://t.co/lT9GTMBs2h  \n",
       "\n",
       "[868 rows x 3 columns]"
      ]
     },
     "execution_count": 7,
     "metadata": {},
     "output_type": "execute_result"
    }
   ],
   "source": [
    "df"
   ]
  },
  {
   "cell_type": "code",
   "execution_count": 8,
   "metadata": {},
   "outputs": [
    {
     "name": "stdout",
     "output_type": "stream",
     "text": [
      "Bahasa yang ditemukan dalam dataset:\n",
      "['id', 'fi', 'en', 'es', 'tr', 'pt', 'lv', 'hr', 'it', 'fr']\n"
     ]
    }
   ],
   "source": [
    "languages_found = language_counts.index.tolist()\n",
    "print(\"Bahasa yang ditemukan dalam dataset:\")\n",
    "print(languages_found)"
   ]
  },
  {
   "cell_type": "code",
   "execution_count": 9,
   "metadata": {},
   "outputs": [
    {
     "data": {
      "text/html": [
       "<div>\n",
       "<style scoped>\n",
       "    .dataframe tbody tr th:only-of-type {\n",
       "        vertical-align: middle;\n",
       "    }\n",
       "\n",
       "    .dataframe tbody tr th {\n",
       "        vertical-align: top;\n",
       "    }\n",
       "\n",
       "    .dataframe thead th {\n",
       "        text-align: right;\n",
       "    }\n",
       "</style>\n",
       "<table border=\"1\" class=\"dataframe\">\n",
       "  <thead>\n",
       "    <tr style=\"text-align: right;\">\n",
       "      <th></th>\n",
       "      <th>english_translation</th>\n",
       "    </tr>\n",
       "  </thead>\n",
       "  <tbody>\n",
       "    <tr>\n",
       "      <th>0</th>\n",
       "      <td>RT @_antens: Petrinja https://t.co/lT9GTMBs2h</td>\n",
       "    </tr>\n",
       "    <tr>\n",
       "      <th>1</th>\n",
       "      <td>RT @_antens: Petrinja https://t.co/lT9GTMBs2h</td>\n",
       "    </tr>\n",
       "    <tr>\n",
       "      <th>2</th>\n",
       "      <td>RT @_antens: Petrinja https://t.co/lT9GTMBs2h</td>\n",
       "    </tr>\n",
       "    <tr>\n",
       "      <th>3</th>\n",
       "      <td>RT @_antens: Petrinja https://t.co/lT9GTMBs2h</td>\n",
       "    </tr>\n",
       "    <tr>\n",
       "      <th>4</th>\n",
       "      <td>RT @_antens: Petrinja https://t.co/lT9GTMBs2h</td>\n",
       "    </tr>\n",
       "  </tbody>\n",
       "</table>\n",
       "</div>"
      ],
      "text/plain": [
       "                             english_translation\n",
       "0  RT @_antens: Petrinja https://t.co/lT9GTMBs2h\n",
       "1  RT @_antens: Petrinja https://t.co/lT9GTMBs2h\n",
       "2  RT @_antens: Petrinja https://t.co/lT9GTMBs2h\n",
       "3  RT @_antens: Petrinja https://t.co/lT9GTMBs2h\n",
       "4  RT @_antens: Petrinja https://t.co/lT9GTMBs2h"
      ]
     },
     "execution_count": 9,
     "metadata": {},
     "output_type": "execute_result"
    }
   ],
   "source": [
    "# Drop 'full_text' and 'language' columns\n",
    "df = df.drop(['full_text', 'language'], axis=1)\n",
    "\n",
    "# Display the updated dataframe\n",
    "df.head()"
   ]
  },
  {
   "cell_type": "code",
   "execution_count": 10,
   "metadata": {},
   "outputs": [
    {
     "name": "stdout",
     "output_type": "stream",
     "text": [
      "Dataframe has been saved to 'croatia_english_dataset.xlsx'\n"
     ]
    }
   ],
   "source": [
    "# Save the dataframe to an Excel file\n",
    "df.to_excel('croatia_english_dataset.xlsx', index=False)\n",
    "\n",
    "print(\"Dataframe has been saved to 'croatia_english_dataset.xlsx'\")"
   ]
  }
 ],
 "metadata": {
  "kernelspec": {
   "display_name": "base",
   "language": "python",
   "name": "python3"
  },
  "language_info": {
   "codemirror_mode": {
    "name": "ipython",
    "version": 3
   },
   "file_extension": ".py",
   "mimetype": "text/x-python",
   "name": "python",
   "nbconvert_exporter": "python",
   "pygments_lexer": "ipython3",
   "version": "3.12.3"
  }
 },
 "nbformat": 4,
 "nbformat_minor": 2
}
