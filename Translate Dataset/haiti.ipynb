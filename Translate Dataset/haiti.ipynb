{
 "cells": [
  {
   "cell_type": "code",
   "execution_count": 1,
   "metadata": {},
   "outputs": [],
   "source": [
    "import pandas as pd\n",
    "from langdetect import detect\n",
    "from deep_translator import GoogleTranslator\n",
    "import seaborn as sns\n",
    "\n",
    "import matplotlib.pyplot as plt"
   ]
  },
  {
   "cell_type": "code",
   "execution_count": 2,
   "metadata": {},
   "outputs": [
    {
     "data": {
      "text/html": [
       "<div>\n",
       "<style scoped>\n",
       "    .dataframe tbody tr th:only-of-type {\n",
       "        vertical-align: middle;\n",
       "    }\n",
       "\n",
       "    .dataframe tbody tr th {\n",
       "        vertical-align: top;\n",
       "    }\n",
       "\n",
       "    .dataframe thead th {\n",
       "        text-align: right;\n",
       "    }\n",
       "</style>\n",
       "<table border=\"1\" class=\"dataframe\">\n",
       "  <thead>\n",
       "    <tr style=\"text-align: right;\">\n",
       "      <th></th>\n",
       "      <th>full_text</th>\n",
       "    </tr>\n",
       "  </thead>\n",
       "  <tbody>\n",
       "    <tr>\n",
       "      <th>0</th>\n",
       "      <td>#Internacional\\n\\nLa OPS despliega a expertos ...</td>\n",
       "    </tr>\n",
       "    <tr>\n",
       "      <th>1</th>\n",
       "      <td>#16Ago Casi dos mil muertos deja terremoto en ...</td>\n",
       "    </tr>\n",
       "    <tr>\n",
       "      <th>2</th>\n",
       "      <td>Haiti Earthquake: Death toll risen over 1200, ...</td>\n",
       "    </tr>\n",
       "    <tr>\n",
       "      <th>3</th>\n",
       "      <td>Prayers for Haiti 💔💔🙏 https://t.co/zMKkWLHySR</td>\n",
       "    </tr>\n",
       "    <tr>\n",
       "      <th>4</th>\n",
       "      <td>Let’s pray for people in #haitie, they are suf...</td>\n",
       "    </tr>\n",
       "    <tr>\n",
       "      <th>...</th>\n",
       "      <td>...</td>\n",
       "    </tr>\n",
       "    <tr>\n",
       "      <th>3232</th>\n",
       "      <td>Di fronte all’aggravarsi della situazione ad H...</td>\n",
       "    </tr>\n",
       "    <tr>\n",
       "      <th>3233</th>\n",
       "      <td>ACN has pledged a €500,000 emergency aid pack ...</td>\n",
       "    </tr>\n",
       "    <tr>\n",
       "      <th>3234</th>\n",
       "      <td>Desde @Entreculturas y Alboan nunca hemos deja...</td>\n",
       "    </tr>\n",
       "    <tr>\n",
       "      <th>3235</th>\n",
       "      <td>Haïti : @SolidLaique appelle aux dons après le...</td>\n",
       "    </tr>\n",
       "    <tr>\n",
       "      <th>3236</th>\n",
       "      <td>#Haiti needs your generosity, your compassion ...</td>\n",
       "    </tr>\n",
       "  </tbody>\n",
       "</table>\n",
       "<p>3237 rows × 1 columns</p>\n",
       "</div>"
      ],
      "text/plain": [
       "                                              full_text\n",
       "0     #Internacional\\n\\nLa OPS despliega a expertos ...\n",
       "1     #16Ago Casi dos mil muertos deja terremoto en ...\n",
       "2     Haiti Earthquake: Death toll risen over 1200, ...\n",
       "3         Prayers for Haiti 💔💔🙏 https://t.co/zMKkWLHySR\n",
       "4     Let’s pray for people in #haitie, they are suf...\n",
       "...                                                 ...\n",
       "3232  Di fronte all’aggravarsi della situazione ad H...\n",
       "3233  ACN has pledged a €500,000 emergency aid pack ...\n",
       "3234  Desde @Entreculturas y Alboan nunca hemos deja...\n",
       "3235  Haïti : @SolidLaique appelle aux dons après le...\n",
       "3236  #Haiti needs your generosity, your compassion ...\n",
       "\n",
       "[3237 rows x 1 columns]"
      ]
     },
     "execution_count": 2,
     "metadata": {},
     "output_type": "execute_result"
    }
   ],
   "source": [
    "df = pd.read_excel('JRC_dataset_text.xlsx', sheet_name='Haiti earthquake')\n",
    "df"
   ]
  },
  {
   "cell_type": "code",
   "execution_count": 3,
   "metadata": {},
   "outputs": [
    {
     "name": "stdout",
     "output_type": "stream",
     "text": [
      "Language distribution in the dataset:\n",
      "language\n",
      "en         1274\n",
      "es         1132\n",
      "fr          284\n",
      "pt          147\n",
      "tr          103\n",
      "de           58\n",
      "it           51\n",
      "sw           26\n",
      "nl           23\n",
      "id           20\n",
      "ca           20\n",
      "pl           16\n",
      "unknown      10\n",
      "sq            9\n",
      "fi            6\n",
      "no            6\n",
      "ar            6\n",
      "sl            4\n",
      "vi            4\n",
      "af            3\n",
      "da            3\n",
      "hi            3\n",
      "ur            3\n",
      "hr            2\n",
      "fa            2\n",
      "et            2\n",
      "el            2\n",
      "th            2\n",
      "uk            2\n",
      "kn            1\n",
      "ro            1\n",
      "sk            1\n",
      "ru            1\n",
      "so            1\n",
      "ta            1\n",
      "cs            1\n",
      "he            1\n",
      "lv            1\n",
      "ja            1\n",
      "hu            1\n",
      "tl            1\n",
      "ko            1\n",
      "cy            1\n",
      "Name: count, dtype: int64\n"
     ]
    }
   ],
   "source": [
    "# Import required library\n",
    "from langdetect import detect\n",
    "\n",
    "# Function to detect language\n",
    "def detect_language(text):\n",
    "    try:\n",
    "        return detect(text)\n",
    "    except:\n",
    "        return 'unknown'\n",
    "\n",
    "# Detect language for each text\n",
    "df['language'] = df['full_text'].apply(detect_language)\n",
    "\n",
    "# Show language distribution\n",
    "language_counts = df['language'].value_counts()\n",
    "print(\"Language distribution in the dataset:\")\n",
    "print(language_counts)"
   ]
  },
  {
   "cell_type": "code",
   "execution_count": 4,
   "metadata": {},
   "outputs": [
    {
     "name": "stdout",
     "output_type": "stream",
     "text": [
      "Jumlah bahasa unik yang ada: 43\n"
     ]
    },
    {
     "data": {
      "image/png": "[encoded data removed]",
      "text/plain": [
       "<Figure size 1200x600 with 1 Axes>"
      ]
     },
     "metadata": {},
     "output_type": "display_data"
    }
   ],
   "source": [
    "import seaborn as sns\n",
    "\n",
    "import matplotlib.pyplot as plt\n",
    "\n",
    "# Menghitung jumlah bahasa unik\n",
    "unique_languages_count = df['language'].nunique()\n",
    "print(f\"Jumlah bahasa unik yang ada: {unique_languages_count}\")\n",
    "\n",
    "# Menampilkan jumlah bahasa unik dalam plot\n",
    "plt.figure(figsize=(12, 6))\n",
    "sns.countplot(y='language', data=df, order=language_counts.index)\n",
    "plt.title(f'Distribusi Bahasa dalam Dataset (Total bahasa unik: {unique_languages_count})')\n",
    "plt.xlabel('Jumlah')\n",
    "plt.ylabel('Bahasa')\n",
    "plt.show()"
   ]
  },
  {
   "cell_type": "code",
   "execution_count": 5,
   "metadata": {},
   "outputs": [
    {
     "name": "stdout",
     "output_type": "stream",
     "text": [
      "                                           full_text language  \\\n",
      "0  #Internacional\\n\\nLa OPS despliega a expertos ...       es   \n",
      "1  #16Ago Casi dos mil muertos deja terremoto en ...       es   \n",
      "2  Haiti Earthquake: Death toll risen over 1200, ...       en   \n",
      "3      Prayers for Haiti 💔💔🙏 https://t.co/zMKkWLHySR       en   \n",
      "4  Let’s pray for people in #haitie, they are suf...       en   \n",
      "\n",
      "                                 english_translation  \n",
      "0  #International\\n\\nPAHO deploys experts to supp...  \n",
      "1  #16Aug Nearly two thousand dead after earthqua...  \n",
      "2  Haiti Earthquake: Death toll risen over 1200, ...  \n",
      "3      Prayers for Haiti 💔💔🙏 https://t.co/zMKkWLHySR  \n",
      "4  Let’s pray for people in #haitie, they are suf...  \n"
     ]
    }
   ],
   "source": [
    "# Import libraries\n",
    "from langdetect import detect\n",
    "from deep_translator import GoogleTranslator\n",
    "import pandas as pd\n",
    "\n",
    "# Function to translate text to English\n",
    "def translate_to_english(text, source_lang):\n",
    "    try:\n",
    "        # If the text is already in English, return it as-is\n",
    "        if source_lang == 'en':\n",
    "            return text\n",
    "        # Translate text to English\n",
    "        translator = GoogleTranslator(source=source_lang, target='en')\n",
    "        return translator.translate(text)\n",
    "    except:\n",
    "        return 'Translation error'\n",
    "\n",
    "# Detect language for each text\n",
    "df['language'] = df['full_text'].apply(detect_language)\n",
    "\n",
    "# Translate all non-English texts to English\n",
    "df['english_translation'] = df.apply(\n",
    "    lambda row: translate_to_english(row['full_text'], row['language']),\n",
    "    axis=1\n",
    ")\n",
    "\n",
    "# View result: displaying the first few rows\n",
    "print(df[['full_text', 'language', 'english_translation']].head())\n"
   ]
  },
  {
   "cell_type": "code",
   "execution_count": 6,
   "metadata": {},
   "outputs": [
    {
     "name": "stdout",
     "output_type": "stream",
     "text": [
      "Number of rows after removing translation errors: 3226\n"
     ]
    }
   ],
   "source": [
    "# Remove rows with 'Translation error' in english_translation column\n",
    "df = df[df['english_translation'] != 'Translation error']\n",
    "\n",
    "# Verify results\n",
    "print(f\"Number of rows after removing translation errors: {len(df)}\")"
   ]
  },
  {
   "cell_type": "code",
   "execution_count": 7,
   "metadata": {},
   "outputs": [
    {
     "data": {
      "text/html": [
       "<div>\n",
       "<style scoped>\n",
       "    .dataframe tbody tr th:only-of-type {\n",
       "        vertical-align: middle;\n",
       "    }\n",
       "\n",
       "    .dataframe tbody tr th {\n",
       "        vertical-align: top;\n",
       "    }\n",
       "\n",
       "    .dataframe thead th {\n",
       "        text-align: right;\n",
       "    }\n",
       "</style>\n",
       "<table border=\"1\" class=\"dataframe\">\n",
       "  <thead>\n",
       "    <tr style=\"text-align: right;\">\n",
       "      <th></th>\n",
       "      <th>full_text</th>\n",
       "      <th>language</th>\n",
       "      <th>english_translation</th>\n",
       "    </tr>\n",
       "  </thead>\n",
       "  <tbody>\n",
       "    <tr>\n",
       "      <th>0</th>\n",
       "      <td>#Internacional\\n\\nLa OPS despliega a expertos ...</td>\n",
       "      <td>es</td>\n",
       "      <td>#International\\n\\nPAHO deploys experts to supp...</td>\n",
       "    </tr>\n",
       "    <tr>\n",
       "      <th>1</th>\n",
       "      <td>#16Ago Casi dos mil muertos deja terremoto en ...</td>\n",
       "      <td>es</td>\n",
       "      <td>#16Aug Nearly two thousand dead after earthqua...</td>\n",
       "    </tr>\n",
       "    <tr>\n",
       "      <th>2</th>\n",
       "      <td>Haiti Earthquake: Death toll risen over 1200, ...</td>\n",
       "      <td>en</td>\n",
       "      <td>Haiti Earthquake: Death toll risen over 1200, ...</td>\n",
       "    </tr>\n",
       "    <tr>\n",
       "      <th>3</th>\n",
       "      <td>Prayers for Haiti 💔💔🙏 https://t.co/zMKkWLHySR</td>\n",
       "      <td>en</td>\n",
       "      <td>Prayers for Haiti 💔💔🙏 https://t.co/zMKkWLHySR</td>\n",
       "    </tr>\n",
       "    <tr>\n",
       "      <th>4</th>\n",
       "      <td>Let’s pray for people in #haitie, they are suf...</td>\n",
       "      <td>en</td>\n",
       "      <td>Let’s pray for people in #haitie, they are suf...</td>\n",
       "    </tr>\n",
       "    <tr>\n",
       "      <th>...</th>\n",
       "      <td>...</td>\n",
       "      <td>...</td>\n",
       "      <td>...</td>\n",
       "    </tr>\n",
       "    <tr>\n",
       "      <th>3232</th>\n",
       "      <td>Di fronte all’aggravarsi della situazione ad H...</td>\n",
       "      <td>it</td>\n",
       "      <td>Faced with the worsening situation in Haiti, f...</td>\n",
       "    </tr>\n",
       "    <tr>\n",
       "      <th>3233</th>\n",
       "      <td>ACN has pledged a €500,000 emergency aid pack ...</td>\n",
       "      <td>en</td>\n",
       "      <td>ACN has pledged a €500,000 emergency aid pack ...</td>\n",
       "    </tr>\n",
       "    <tr>\n",
       "      <th>3234</th>\n",
       "      <td>Desde @Entreculturas y Alboan nunca hemos deja...</td>\n",
       "      <td>es</td>\n",
       "      <td>From @Entreculturas and Alboan we have never s...</td>\n",
       "    </tr>\n",
       "    <tr>\n",
       "      <th>3235</th>\n",
       "      <td>Haïti : @SolidLaique appelle aux dons après le...</td>\n",
       "      <td>fr</td>\n",
       "      <td>Haiti: @SolidLaique calls for donations after ...</td>\n",
       "    </tr>\n",
       "    <tr>\n",
       "      <th>3236</th>\n",
       "      <td>#Haiti needs your generosity, your compassion ...</td>\n",
       "      <td>en</td>\n",
       "      <td>#Haiti needs your generosity, your compassion ...</td>\n",
       "    </tr>\n",
       "  </tbody>\n",
       "</table>\n",
       "<p>3226 rows × 3 columns</p>\n",
       "</div>"
      ],
      "text/plain": [
       "                                              full_text language  \\\n",
       "0     #Internacional\\n\\nLa OPS despliega a expertos ...       es   \n",
       "1     #16Ago Casi dos mil muertos deja terremoto en ...       es   \n",
       "2     Haiti Earthquake: Death toll risen over 1200, ...       en   \n",
       "3         Prayers for Haiti 💔💔🙏 https://t.co/zMKkWLHySR       en   \n",
       "4     Let’s pray for people in #haitie, they are suf...       en   \n",
       "...                                                 ...      ...   \n",
       "3232  Di fronte all’aggravarsi della situazione ad H...       it   \n",
       "3233  ACN has pledged a €500,000 emergency aid pack ...       en   \n",
       "3234  Desde @Entreculturas y Alboan nunca hemos deja...       es   \n",
       "3235  Haïti : @SolidLaique appelle aux dons après le...       fr   \n",
       "3236  #Haiti needs your generosity, your compassion ...       en   \n",
       "\n",
       "                                    english_translation  \n",
       "0     #International\\n\\nPAHO deploys experts to supp...  \n",
       "1     #16Aug Nearly two thousand dead after earthqua...  \n",
       "2     Haiti Earthquake: Death toll risen over 1200, ...  \n",
       "3         Prayers for Haiti 💔💔🙏 https://t.co/zMKkWLHySR  \n",
       "4     Let’s pray for people in #haitie, they are suf...  \n",
       "...                                                 ...  \n",
       "3232  Faced with the worsening situation in Haiti, f...  \n",
       "3233  ACN has pledged a €500,000 emergency aid pack ...  \n",
       "3234  From @Entreculturas and Alboan we have never s...  \n",
       "3235  Haiti: @SolidLaique calls for donations after ...  \n",
       "3236  #Haiti needs your generosity, your compassion ...  \n",
       "\n",
       "[3226 rows x 3 columns]"
      ]
     },
     "execution_count": 7,
     "metadata": {},
     "output_type": "execute_result"
    }
   ],
   "source": [
    "df"
   ]
  },
  {
   "cell_type": "code",
   "execution_count": 8,
   "metadata": {},
   "outputs": [
    {
     "name": "stdout",
     "output_type": "stream",
     "text": [
      "Bahasa yang ditemukan dalam dataset:\n",
      "['en', 'es', 'fr', 'pt', 'tr', 'de', 'it', 'sw', 'nl', 'id', 'ca', 'pl', 'unknown', 'sq', 'fi', 'no', 'ar', 'sl', 'vi', 'af', 'da', 'hi', 'ur', 'hr', 'fa', 'et', 'el', 'th', 'uk', 'kn', 'ro', 'sk', 'ru', 'so', 'ta', 'cs', 'he', 'lv', 'ja', 'hu', 'tl', 'ko', 'cy']\n"
     ]
    }
   ],
   "source": [
    "languages_found = language_counts.index.tolist()\n",
    "print(\"Bahasa yang ditemukan dalam dataset:\")\n",
    "print(languages_found)"
   ]
  },
  {
   "cell_type": "code",
   "execution_count": 9,
   "metadata": {},
   "outputs": [
    {
     "data": {
      "text/html": [
       "<div>\n",
       "<style scoped>\n",
       "    .dataframe tbody tr th:only-of-type {\n",
       "        vertical-align: middle;\n",
       "    }\n",
       "\n",
       "    .dataframe tbody tr th {\n",
       "        vertical-align: top;\n",
       "    }\n",
       "\n",
       "    .dataframe thead th {\n",
       "        text-align: right;\n",
       "    }\n",
       "</style>\n",
       "<table border=\"1\" class=\"dataframe\">\n",
       "  <thead>\n",
       "    <tr style=\"text-align: right;\">\n",
       "      <th></th>\n",
       "      <th>english_translation</th>\n",
       "    </tr>\n",
       "  </thead>\n",
       "  <tbody>\n",
       "    <tr>\n",
       "      <th>0</th>\n",
       "      <td>#International\\n\\nPAHO deploys experts to supp...</td>\n",
       "    </tr>\n",
       "    <tr>\n",
       "      <th>1</th>\n",
       "      <td>#16Aug Nearly two thousand dead after earthqua...</td>\n",
       "    </tr>\n",
       "    <tr>\n",
       "      <th>2</th>\n",
       "      <td>Haiti Earthquake: Death toll risen over 1200, ...</td>\n",
       "    </tr>\n",
       "    <tr>\n",
       "      <th>3</th>\n",
       "      <td>Prayers for Haiti 💔💔🙏 https://t.co/zMKkWLHySR</td>\n",
       "    </tr>\n",
       "    <tr>\n",
       "      <th>4</th>\n",
       "      <td>Let’s pray for people in #haitie, they are suf...</td>\n",
       "    </tr>\n",
       "  </tbody>\n",
       "</table>\n",
       "</div>"
      ],
      "text/plain": [
       "                                 english_translation\n",
       "0  #International\\n\\nPAHO deploys experts to supp...\n",
       "1  #16Aug Nearly two thousand dead after earthqua...\n",
       "2  Haiti Earthquake: Death toll risen over 1200, ...\n",
       "3      Prayers for Haiti 💔💔🙏 https://t.co/zMKkWLHySR\n",
       "4  Let’s pray for people in #haitie, they are suf..."
      ]
     },
     "execution_count": 9,
     "metadata": {},
     "output_type": "execute_result"
    }
   ],
   "source": [
    "# Drop 'full_text' and 'language' columns\n",
    "df = df.drop(['full_text', 'language'], axis=1)\n",
    "\n",
    "# Display the updated dataframe\n",
    "df.head()"
   ]
  },
  {
   "cell_type": "code",
   "execution_count": 10,
   "metadata": {},
   "outputs": [
    {
     "name": "stdout",
     "output_type": "stream",
     "text": [
      "Dataframe has been saved to 'haiti_english_dataset.xlsx'\n"
     ]
    }
   ],
   "source": [
    "# Save the dataframe to an Excel file\n",
    "df.to_excel('haiti_english_dataset.xlsx', index=False)\n",
    "\n",
    "print(\"Dataframe has been saved to 'haiti_english_dataset.xlsx'\")"
   ]
  }
 ],
 "metadata": {
  "kernelspec": {
   "display_name": "base",
   "language": "python",
   "name": "python3"
  },
  "language_info": {
   "codemirror_mode": {
    "name": "ipython",
    "version": 3
   },
   "file_extension": ".py",
   "mimetype": "text/x-python",
   "name": "python",
   "nbconvert_exporter": "python",
   "pygments_lexer": "ipython3",
   "version": "3.12.3"
  }
 },
 "nbformat": 4,
 "nbformat_minor": 2
}
