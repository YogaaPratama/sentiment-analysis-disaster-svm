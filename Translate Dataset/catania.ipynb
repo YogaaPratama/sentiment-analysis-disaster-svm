{
 "cells": [
  {
   "cell_type": "code",
   "execution_count": 2,
   "metadata": {},
   "outputs": [],
   "source": [
    "import pandas as pd\n",
    "from langdetect import detect\n",
    "from deep_translator import GoogleTranslator\n",
    "import seaborn as sns\n",
    "\n",
    "import matplotlib.pyplot as plt"
   ]
  },
  {
   "cell_type": "code",
   "execution_count": 3,
   "metadata": {},
   "outputs": [
    {
     "data": {
      "text/html": [
       "<div>\n",
       "<style scoped>\n",
       "    .dataframe tbody tr th:only-of-type {\n",
       "        vertical-align: middle;\n",
       "    }\n",
       "\n",
       "    .dataframe tbody tr th {\n",
       "        vertical-align: top;\n",
       "    }\n",
       "\n",
       "    .dataframe thead th {\n",
       "        text-align: right;\n",
       "    }\n",
       "</style>\n",
       "<table border=\"1\" class=\"dataframe\">\n",
       "  <thead>\n",
       "    <tr style=\"text-align: right;\">\n",
       "      <th></th>\n",
       "      <th>full_text</th>\n",
       "    </tr>\n",
       "  </thead>\n",
       "  <tbody>\n",
       "    <tr>\n",
       "      <th>0</th>\n",
       "      <td>Los gansos de Palermo. https://t.co/hN0WwJp67W</td>\n",
       "    </tr>\n",
       "    <tr>\n",
       "      <th>1</th>\n",
       "      <td>Maltempo. In arrivo ciclone Mediterraneo, prim...</td>\n",
       "    </tr>\n",
       "    <tr>\n",
       "      <th>2</th>\n",
       "      <td>Maltempo, nubifragio a Pantelleria. Danni e di...</td>\n",
       "    </tr>\n",
       "    <tr>\n",
       "      <th>3</th>\n",
       "      <td>Maltempo: Protezione Civile, in Sicilia è 'all...</td>\n",
       "    </tr>\n",
       "    <tr>\n",
       "      <th>4</th>\n",
       "      <td>Maltempo in Sicilia, ancora dispersa la coppia...</td>\n",
       "    </tr>\n",
       "    <tr>\n",
       "      <th>...</th>\n",
       "      <td>...</td>\n",
       "    </tr>\n",
       "    <tr>\n",
       "      <th>201</th>\n",
       "      <td>Severe flooding in Catania Italy. \\nHeavy rain...</td>\n",
       "    </tr>\n",
       "    <tr>\n",
       "      <th>202</th>\n",
       "      <td>¿Podrán los de Palermo? https://t.co/jNilqBnyDY</td>\n",
       "    </tr>\n",
       "    <tr>\n",
       "      <th>203</th>\n",
       "      <td>Siracusa, mareggiata e vento: ciclone al largo...</td>\n",
       "    </tr>\n",
       "    <tr>\n",
       "      <th>204</th>\n",
       "      <td>Allerta meteo Catania: l’incredibile bomba d’a...</td>\n",
       "    </tr>\n",
       "    <tr>\n",
       "      <th>205</th>\n",
       "      <td>A Siracusa ora 😨\\n\\n#medicane https://t.co/CBy...</td>\n",
       "    </tr>\n",
       "  </tbody>\n",
       "</table>\n",
       "<p>206 rows × 1 columns</p>\n",
       "</div>"
      ],
      "text/plain": [
       "                                             full_text\n",
       "0       Los gansos de Palermo. https://t.co/hN0WwJp67W\n",
       "1    Maltempo. In arrivo ciclone Mediterraneo, prim...\n",
       "2    Maltempo, nubifragio a Pantelleria. Danni e di...\n",
       "3    Maltempo: Protezione Civile, in Sicilia è 'all...\n",
       "4    Maltempo in Sicilia, ancora dispersa la coppia...\n",
       "..                                                 ...\n",
       "201  Severe flooding in Catania Italy. \\nHeavy rain...\n",
       "202    ¿Podrán los de Palermo? https://t.co/jNilqBnyDY\n",
       "203  Siracusa, mareggiata e vento: ciclone al largo...\n",
       "204  Allerta meteo Catania: l’incredibile bomba d’a...\n",
       "205  A Siracusa ora 😨\\n\\n#medicane https://t.co/CBy...\n",
       "\n",
       "[206 rows x 1 columns]"
      ]
     },
     "execution_count": 3,
     "metadata": {},
     "output_type": "execute_result"
    }
   ],
   "source": [
    "df = pd.read_excel('JRC_dataset_text.xlsx', sheet_name='Catania floods')\n",
    "df"
   ]
  },
  {
   "cell_type": "code",
   "execution_count": 4,
   "metadata": {},
   "outputs": [
    {
     "name": "stdout",
     "output_type": "stream",
     "text": [
      "Language distribution in the dataset:\n",
      "language\n",
      "it         126\n",
      "en          22\n",
      "sw          19\n",
      "es          11\n",
      "pt           4\n",
      "tl           3\n",
      "ar           3\n",
      "unknown      3\n",
      "ca           3\n",
      "tr           2\n",
      "nl           2\n",
      "pl           1\n",
      "sl           1\n",
      "el           1\n",
      "fr           1\n",
      "hu           1\n",
      "zh-tw        1\n",
      "de           1\n",
      "sq           1\n",
      "Name: count, dtype: int64\n"
     ]
    }
   ],
   "source": [
    "# Import required library\n",
    "from langdetect import detect\n",
    "\n",
    "# Function to detect language\n",
    "def detect_language(text):\n",
    "    try:\n",
    "        return detect(text)\n",
    "    except:\n",
    "        return 'unknown'\n",
    "\n",
    "# Detect language for each text\n",
    "df['language'] = df['full_text'].apply(detect_language)\n",
    "\n",
    "# Show language distribution\n",
    "language_counts = df['language'].value_counts()\n",
    "print(\"Language distribution in the dataset:\")\n",
    "print(language_counts)"
   ]
  },
  {
   "cell_type": "code",
   "execution_count": 5,
   "metadata": {},
   "outputs": [
    {
     "name": "stdout",
     "output_type": "stream",
     "text": [
      "Jumlah bahasa unik yang ada: 19\n"
     ]
    },
    {
     "data": {
      "image/png": "[encoded data removed]",
      "text/plain": [
       "<Figure size 1200x600 with 1 Axes>"
      ]
     },
     "metadata": {},
     "output_type": "display_data"
    }
   ],
   "source": [
    "import seaborn as sns\n",
    "\n",
    "import matplotlib.pyplot as plt\n",
    "\n",
    "# Menghitung jumlah bahasa unik\n",
    "unique_languages_count = df['language'].nunique()\n",
    "print(f\"Jumlah bahasa unik yang ada: {unique_languages_count}\")\n",
    "\n",
    "# Menampilkan jumlah bahasa unik dalam plot\n",
    "plt.figure(figsize=(12, 6))\n",
    "sns.countplot(y='language', data=df, order=language_counts.index)\n",
    "plt.title(f'Distribusi Bahasa dalam Dataset (Total bahasa unik: {unique_languages_count})')\n",
    "plt.xlabel('Jumlah')\n",
    "plt.ylabel('Bahasa')\n",
    "plt.show()"
   ]
  },
  {
   "cell_type": "code",
   "execution_count": 6,
   "metadata": {},
   "outputs": [
    {
     "name": "stdout",
     "output_type": "stream",
     "text": [
      "                                           full_text language  \\\n",
      "0     Los gansos de Palermo. https://t.co/hN0WwJp67W       pt   \n",
      "1  Maltempo. In arrivo ciclone Mediterraneo, prim...       it   \n",
      "2  Maltempo, nubifragio a Pantelleria. Danni e di...       it   \n",
      "3  Maltempo: Protezione Civile, in Sicilia è 'all...       it   \n",
      "4  Maltempo in Sicilia, ancora dispersa la coppia...       it   \n",
      "\n",
      "                                 english_translation  \n",
      "0      Los geese of Palermo. https://t.co/hN0WwJp67W  \n",
      "1  Bad weather. Mediterranean cyclone on the way,...  \n",
      "2  Bad weather, downpour in Pantelleria. Damage a...  \n",
      "3  Bad Weather: Civil Protection, in Sicily it's ...  \n",
      "4  Bad weather in Sicily, the couple swept away b...  \n"
     ]
    }
   ],
   "source": [
    "# Import libraries\n",
    "from langdetect import detect\n",
    "from deep_translator import GoogleTranslator\n",
    "import pandas as pd\n",
    "\n",
    "# Function to translate text to English\n",
    "def translate_to_english(text, source_lang):\n",
    "    try:\n",
    "        # If the text is already in English, return it as-is\n",
    "        if source_lang == 'en':\n",
    "            return text\n",
    "        # Translate text to English\n",
    "        translator = GoogleTranslator(source=source_lang, target='en')\n",
    "        return translator.translate(text)\n",
    "    except:\n",
    "        return 'Translation error'\n",
    "\n",
    "# Detect language for each text\n",
    "df['language'] = df['full_text'].apply(detect_language)\n",
    "\n",
    "# Translate all non-English texts to English\n",
    "df['english_translation'] = df.apply(\n",
    "    lambda row: translate_to_english(row['full_text'], row['language']),\n",
    "    axis=1\n",
    ")\n",
    "\n",
    "# View result: displaying the first few rows\n",
    "print(df[['full_text', 'language', 'english_translation']].head())\n"
   ]
  },
  {
   "cell_type": "code",
   "execution_count": 7,
   "metadata": {},
   "outputs": [
    {
     "name": "stdout",
     "output_type": "stream",
     "text": [
      "Number of rows after removing translation errors: 202\n"
     ]
    }
   ],
   "source": [
    "# Remove rows with 'Translation error' in english_translation column\n",
    "df = df[df['english_translation'] != 'Translation error']\n",
    "\n",
    "# Verify results\n",
    "print(f\"Number of rows after removing translation errors: {len(df)}\")"
   ]
  },
  {
   "cell_type": "code",
   "execution_count": 8,
   "metadata": {},
   "outputs": [
    {
     "data": {
      "text/html": [
       "<div>\n",
       "<style scoped>\n",
       "    .dataframe tbody tr th:only-of-type {\n",
       "        vertical-align: middle;\n",
       "    }\n",
       "\n",
       "    .dataframe tbody tr th {\n",
       "        vertical-align: top;\n",
       "    }\n",
       "\n",
       "    .dataframe thead th {\n",
       "        text-align: right;\n",
       "    }\n",
       "</style>\n",
       "<table border=\"1\" class=\"dataframe\">\n",
       "  <thead>\n",
       "    <tr style=\"text-align: right;\">\n",
       "      <th></th>\n",
       "      <th>full_text</th>\n",
       "      <th>language</th>\n",
       "      <th>english_translation</th>\n",
       "    </tr>\n",
       "  </thead>\n",
       "  <tbody>\n",
       "    <tr>\n",
       "      <th>0</th>\n",
       "      <td>Los gansos de Palermo. https://t.co/hN0WwJp67W</td>\n",
       "      <td>pt</td>\n",
       "      <td>Los geese of Palermo. https://t.co/hN0WwJp67W</td>\n",
       "    </tr>\n",
       "    <tr>\n",
       "      <th>1</th>\n",
       "      <td>Maltempo. In arrivo ciclone Mediterraneo, prim...</td>\n",
       "      <td>it</td>\n",
       "      <td>Bad weather. Mediterranean cyclone on the way,...</td>\n",
       "    </tr>\n",
       "    <tr>\n",
       "      <th>2</th>\n",
       "      <td>Maltempo, nubifragio a Pantelleria. Danni e di...</td>\n",
       "      <td>it</td>\n",
       "      <td>Bad weather, downpour in Pantelleria. Damage a...</td>\n",
       "    </tr>\n",
       "    <tr>\n",
       "      <th>3</th>\n",
       "      <td>Maltempo: Protezione Civile, in Sicilia è 'all...</td>\n",
       "      <td>it</td>\n",
       "      <td>Bad Weather: Civil Protection, in Sicily it's ...</td>\n",
       "    </tr>\n",
       "    <tr>\n",
       "      <th>4</th>\n",
       "      <td>Maltempo in Sicilia, ancora dispersa la coppia...</td>\n",
       "      <td>it</td>\n",
       "      <td>Bad weather in Sicily, the couple swept away b...</td>\n",
       "    </tr>\n",
       "    <tr>\n",
       "      <th>...</th>\n",
       "      <td>...</td>\n",
       "      <td>...</td>\n",
       "      <td>...</td>\n",
       "    </tr>\n",
       "    <tr>\n",
       "      <th>201</th>\n",
       "      <td>Severe flooding in Catania Italy. \\nHeavy rain...</td>\n",
       "      <td>en</td>\n",
       "      <td>Severe flooding in Catania Italy. \\nHeavy rain...</td>\n",
       "    </tr>\n",
       "    <tr>\n",
       "      <th>202</th>\n",
       "      <td>¿Podrán los de Palermo? https://t.co/jNilqBnyDY</td>\n",
       "      <td>es</td>\n",
       "      <td>Can Palermo do it? https://t.co/jNilqBnyDY</td>\n",
       "    </tr>\n",
       "    <tr>\n",
       "      <th>203</th>\n",
       "      <td>Siracusa, mareggiata e vento: ciclone al largo...</td>\n",
       "      <td>it</td>\n",
       "      <td>Syracuse, storm surge and wind: cyclone off th...</td>\n",
       "    </tr>\n",
       "    <tr>\n",
       "      <th>204</th>\n",
       "      <td>Allerta meteo Catania: l’incredibile bomba d’a...</td>\n",
       "      <td>it</td>\n",
       "      <td>Catania Weather Alert: The Incredible Water Bo...</td>\n",
       "    </tr>\n",
       "    <tr>\n",
       "      <th>205</th>\n",
       "      <td>A Siracusa ora 😨\\n\\n#medicane https://t.co/CBy...</td>\n",
       "      <td>pt</td>\n",
       "      <td>Syracuse prays 😨\\n\\n#medicane https://t.co/CBy...</td>\n",
       "    </tr>\n",
       "  </tbody>\n",
       "</table>\n",
       "<p>202 rows × 3 columns</p>\n",
       "</div>"
      ],
      "text/plain": [
       "                                             full_text language  \\\n",
       "0       Los gansos de Palermo. https://t.co/hN0WwJp67W       pt   \n",
       "1    Maltempo. In arrivo ciclone Mediterraneo, prim...       it   \n",
       "2    Maltempo, nubifragio a Pantelleria. Danni e di...       it   \n",
       "3    Maltempo: Protezione Civile, in Sicilia è 'all...       it   \n",
       "4    Maltempo in Sicilia, ancora dispersa la coppia...       it   \n",
       "..                                                 ...      ...   \n",
       "201  Severe flooding in Catania Italy. \\nHeavy rain...       en   \n",
       "202    ¿Podrán los de Palermo? https://t.co/jNilqBnyDY       es   \n",
       "203  Siracusa, mareggiata e vento: ciclone al largo...       it   \n",
       "204  Allerta meteo Catania: l’incredibile bomba d’a...       it   \n",
       "205  A Siracusa ora 😨\\n\\n#medicane https://t.co/CBy...       pt   \n",
       "\n",
       "                                   english_translation  \n",
       "0        Los geese of Palermo. https://t.co/hN0WwJp67W  \n",
       "1    Bad weather. Mediterranean cyclone on the way,...  \n",
       "2    Bad weather, downpour in Pantelleria. Damage a...  \n",
       "3    Bad Weather: Civil Protection, in Sicily it's ...  \n",
       "4    Bad weather in Sicily, the couple swept away b...  \n",
       "..                                                 ...  \n",
       "201  Severe flooding in Catania Italy. \\nHeavy rain...  \n",
       "202         Can Palermo do it? https://t.co/jNilqBnyDY  \n",
       "203  Syracuse, storm surge and wind: cyclone off th...  \n",
       "204  Catania Weather Alert: The Incredible Water Bo...  \n",
       "205  Syracuse prays 😨\\n\\n#medicane https://t.co/CBy...  \n",
       "\n",
       "[202 rows x 3 columns]"
      ]
     },
     "execution_count": 8,
     "metadata": {},
     "output_type": "execute_result"
    }
   ],
   "source": [
    "df"
   ]
  },
  {
   "cell_type": "code",
   "execution_count": 9,
   "metadata": {},
   "outputs": [
    {
     "name": "stdout",
     "output_type": "stream",
     "text": [
      "Bahasa yang ditemukan dalam dataset:\n",
      "['it', 'en', 'sw', 'es', 'pt', 'tl', 'ar', 'unknown', 'ca', 'tr', 'nl', 'pl', 'sl', 'el', 'fr', 'hu', 'zh-tw', 'de', 'sq']\n"
     ]
    }
   ],
   "source": [
    "languages_found = language_counts.index.tolist()\n",
    "print(\"Bahasa yang ditemukan dalam dataset:\")\n",
    "print(languages_found)"
   ]
  },
  {
   "cell_type": "code",
   "execution_count": 10,
   "metadata": {},
   "outputs": [
    {
     "data": {
      "text/html": [
       "<div>\n",
       "<style scoped>\n",
       "    .dataframe tbody tr th:only-of-type {\n",
       "        vertical-align: middle;\n",
       "    }\n",
       "\n",
       "    .dataframe tbody tr th {\n",
       "        vertical-align: top;\n",
       "    }\n",
       "\n",
       "    .dataframe thead th {\n",
       "        text-align: right;\n",
       "    }\n",
       "</style>\n",
       "<table border=\"1\" class=\"dataframe\">\n",
       "  <thead>\n",
       "    <tr style=\"text-align: right;\">\n",
       "      <th></th>\n",
       "      <th>english_translation</th>\n",
       "    </tr>\n",
       "  </thead>\n",
       "  <tbody>\n",
       "    <tr>\n",
       "      <th>0</th>\n",
       "      <td>Los geese of Palermo. https://t.co/hN0WwJp67W</td>\n",
       "    </tr>\n",
       "    <tr>\n",
       "      <th>1</th>\n",
       "      <td>Bad weather. Mediterranean cyclone on the way,...</td>\n",
       "    </tr>\n",
       "    <tr>\n",
       "      <th>2</th>\n",
       "      <td>Bad weather, downpour in Pantelleria. Damage a...</td>\n",
       "    </tr>\n",
       "    <tr>\n",
       "      <th>3</th>\n",
       "      <td>Bad Weather: Civil Protection, in Sicily it's ...</td>\n",
       "    </tr>\n",
       "    <tr>\n",
       "      <th>4</th>\n",
       "      <td>Bad weather in Sicily, the couple swept away b...</td>\n",
       "    </tr>\n",
       "  </tbody>\n",
       "</table>\n",
       "</div>"
      ],
      "text/plain": [
       "                                 english_translation\n",
       "0      Los geese of Palermo. https://t.co/hN0WwJp67W\n",
       "1  Bad weather. Mediterranean cyclone on the way,...\n",
       "2  Bad weather, downpour in Pantelleria. Damage a...\n",
       "3  Bad Weather: Civil Protection, in Sicily it's ...\n",
       "4  Bad weather in Sicily, the couple swept away b..."
      ]
     },
     "execution_count": 10,
     "metadata": {},
     "output_type": "execute_result"
    }
   ],
   "source": [
    "# Drop 'full_text' and 'language' columns\n",
    "df = df.drop(['full_text', 'language'], axis=1)\n",
    "\n",
    "# Display the updated dataframe\n",
    "df.head()"
   ]
  },
  {
   "cell_type": "code",
   "execution_count": 11,
   "metadata": {},
   "outputs": [
    {
     "name": "stdout",
     "output_type": "stream",
     "text": [
      "Dataframe has been saved to 'catania_english_dataset.xlsx'\n"
     ]
    }
   ],
   "source": [
    "# Save the dataframe to an Excel file\n",
    "df.to_excel('catania_english_dataset.xlsx', index=False)\n",
    "\n",
    "print(\"Dataframe has been saved to 'catania_english_dataset.xlsx'\")"
   ]
  }
 ],
 "metadata": {
  "kernelspec": {
   "display_name": "base",
   "language": "python",
   "name": "python3"
  },
  "language_info": {
   "codemirror_mode": {
    "name": "ipython",
    "version": 3
   },
   "file_extension": ".py",
   "mimetype": "text/x-python",
   "name": "python",
   "nbconvert_exporter": "python",
   "pygments_lexer": "ipython3",
   "version": "3.12.3"
  }
 },
 "nbformat": 4,
 "nbformat_minor": 2
}
